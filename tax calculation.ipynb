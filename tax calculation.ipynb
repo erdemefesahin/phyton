{
 "cells": [
  {
   "cell_type": "code",
   "execution_count": 1,
   "metadata": {},
   "outputs": [],
   "source": [
    "item=100\n",
    "tax_percent=18\n",
    "print=((1+tax_percent/item)*100)\n"
   ]
  },
  {
   "cell_type": "code",
   "execution_count": null,
   "metadata": {},
   "outputs": [],
   "source": [
    "### default item price 100 as an exm. ###\n",
    "### default tax percent is 18% (as an exm. Turkish item tax percent) ###\n"
   ]
  }
 ],
 "metadata": {
  "kernelspec": {
   "display_name": "Python 3.11.2 64-bit",
   "language": "python",
   "name": "python3"
  },
  "language_info": {
   "codemirror_mode": {
    "name": "ipython",
    "version": 3
   },
   "file_extension": ".py",
   "mimetype": "text/x-python",
   "name": "python",
   "nbconvert_exporter": "python",
   "pygments_lexer": "ipython3",
   "version": "3.11.2"
  },
  "orig_nbformat": 4,
  "vscode": {
   "interpreter": {
    "hash": "6d1a343fabaeea5e079730ca7cf8295133e4962f7d2d9844aa24d93423f61294"
   }
  }
 },
 "nbformat": 4,
 "nbformat_minor": 2
}
